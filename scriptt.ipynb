{
 "cells": [
  {
   "cell_type": "code",
   "execution_count": 3,
   "metadata": {},
   "outputs": [],
   "source": [
    "import os\n",
    "import shutil"
   ]
  },
  {
   "cell_type": "code",
   "execution_count": 8,
   "metadata": {},
   "outputs": [],
   "source": [
    "txt_dir = \"/home/gns/Desktop/image_viewer/ImageVisualize/Dataset/labels\"\n",
    "img_dir = \"/home/gns/Desktop/image_viewer/ImageVisualize/Dataset/images\"\n",
    "txt_files = [i for i in os.listdir(txt_dir)]\n",
    "\n",
    "for i in txt_files:\n",
    "    if i == \"classes.txt\":\n",
    "        continue\n",
    "    s = i.split(\".txt\")[0] + \".jpg\"\n",
    "    shutil.copy(f\"{img_dir}/{s}\", txt_dir)"
   ]
  }
 ],
 "metadata": {
  "kernelspec": {
   "display_name": "facenet",
   "language": "python",
   "name": "python3"
  },
  "language_info": {
   "codemirror_mode": {
    "name": "ipython",
    "version": 3
   },
   "file_extension": ".py",
   "mimetype": "text/x-python",
   "name": "python",
   "nbconvert_exporter": "python",
   "pygments_lexer": "ipython3",
   "version": "3.7.9"
  },
  "orig_nbformat": 4
 },
 "nbformat": 4,
 "nbformat_minor": 2
}
